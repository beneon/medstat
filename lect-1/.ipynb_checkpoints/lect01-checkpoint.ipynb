{
 "cells": [
  {
   "cell_type": "markdown",
   "metadata": {},
   "source": [
    "# 第一讲\n",
    "\n",
    "> 平均值, 标准差, 中值极限定理, 判定和风险, 假设检验\n",
    "\n",
    "## 均值和标准差"
   ]
  },
  {
   "cell_type": "code",
   "execution_count": 1,
   "metadata": {
    "collapsed": true
   },
   "outputs": [],
   "source": [
    "# import packages\n",
    "import numpy as np\n",
    "import pandas as pd\n",
    "import matplotlib.pyplot as plt\n",
    "import math\n",
    "import scipy"
   ]
  },
  {
   "cell_type": "code",
   "execution_count": 2,
   "metadata": {
    "collapsed": true
   },
   "outputs": [],
   "source": [
    "def drawLine(vFrom, vTo, value,plt,color='red',isHori=False):\n",
    "    if isHori:\n",
    "        plt.plot([vFrom,vTo],[value,value],color=color)\n",
    "    else:\n",
    "        plt.plot([value,value],[vFrom,vTo],color=color)"
   ]
  },
  {
   "cell_type": "code",
   "execution_count": 3,
   "metadata": {},
   "outputs": [
    {
     "ename": "AttributeError",
     "evalue": "module 'numpy' has no attribute 'quantile'",
     "output_type": "error",
     "traceback": [
      "\u001b[0;31m---------------------------------------------------------------------------\u001b[0m",
      "\u001b[0;31mAttributeError\u001b[0m                            Traceback (most recent call last)",
      "\u001b[0;32m<ipython-input-3-2c04c06c0d3e>\u001b[0m in \u001b[0;36m<module>\u001b[0;34m()\u001b[0m\n\u001b[1;32m     15\u001b[0m \u001b[0mdrawLine\u001b[0m\u001b[0;34m(\u001b[0m\u001b[0;36m0\u001b[0m\u001b[0;34m,\u001b[0m\u001b[0mc_max\u001b[0m\u001b[0;34m,\u001b[0m\u001b[0mnp\u001b[0m\u001b[0;34m.\u001b[0m\u001b[0mmean\u001b[0m\u001b[0;34m(\u001b[0m\u001b[0mpop1\u001b[0m\u001b[0;34m)\u001b[0m\u001b[0;34m,\u001b[0m\u001b[0mplt\u001b[0m\u001b[0;34m,\u001b[0m\u001b[0misHori\u001b[0m\u001b[0;34m=\u001b[0m\u001b[0;32mFalse\u001b[0m\u001b[0;34m)\u001b[0m\u001b[0;34m\u001b[0m\u001b[0m\n\u001b[1;32m     16\u001b[0m \u001b[0mdrawLine\u001b[0m\u001b[0;34m(\u001b[0m\u001b[0;36m0\u001b[0m\u001b[0;34m,\u001b[0m\u001b[0mc_max\u001b[0m\u001b[0;34m,\u001b[0m\u001b[0mnp\u001b[0m\u001b[0;34m.\u001b[0m\u001b[0mmedian\u001b[0m\u001b[0;34m(\u001b[0m\u001b[0mpop1\u001b[0m\u001b[0;34m)\u001b[0m\u001b[0;34m,\u001b[0m\u001b[0mplt\u001b[0m\u001b[0;34m,\u001b[0m\u001b[0mcolor\u001b[0m\u001b[0;34m=\u001b[0m\u001b[0;34m'black'\u001b[0m\u001b[0;34m,\u001b[0m\u001b[0misHori\u001b[0m\u001b[0;34m=\u001b[0m\u001b[0;32mFalse\u001b[0m\u001b[0;34m)\u001b[0m\u001b[0;34m\u001b[0m\u001b[0m\n\u001b[0;32m---> 17\u001b[0;31m \u001b[0mdrawLine\u001b[0m\u001b[0;34m(\u001b[0m\u001b[0;36m0\u001b[0m\u001b[0;34m,\u001b[0m\u001b[0mc_max\u001b[0m\u001b[0;34m,\u001b[0m\u001b[0mnp\u001b[0m\u001b[0;34m.\u001b[0m\u001b[0mquantile\u001b[0m\u001b[0;34m(\u001b[0m\u001b[0mpop1\u001b[0m\u001b[0;34m,\u001b[0m\u001b[0;36m0.25\u001b[0m\u001b[0;34m)\u001b[0m\u001b[0;34m,\u001b[0m\u001b[0mplt\u001b[0m\u001b[0;34m,\u001b[0m\u001b[0mcolor\u001b[0m\u001b[0;34m=\u001b[0m\u001b[0;34m'green'\u001b[0m\u001b[0;34m,\u001b[0m\u001b[0misHori\u001b[0m\u001b[0;34m=\u001b[0m\u001b[0;32mFalse\u001b[0m\u001b[0;34m)\u001b[0m\u001b[0;34m\u001b[0m\u001b[0m\n\u001b[0m\u001b[1;32m     18\u001b[0m \u001b[0mdrawLine\u001b[0m\u001b[0;34m(\u001b[0m\u001b[0;36m0\u001b[0m\u001b[0;34m,\u001b[0m\u001b[0mc_max\u001b[0m\u001b[0;34m,\u001b[0m\u001b[0mnp\u001b[0m\u001b[0;34m.\u001b[0m\u001b[0mquantile\u001b[0m\u001b[0;34m(\u001b[0m\u001b[0mpop1\u001b[0m\u001b[0;34m,\u001b[0m\u001b[0;36m0.75\u001b[0m\u001b[0;34m)\u001b[0m\u001b[0;34m,\u001b[0m\u001b[0mplt\u001b[0m\u001b[0;34m,\u001b[0m\u001b[0mcolor\u001b[0m\u001b[0;34m=\u001b[0m\u001b[0;34m'orange'\u001b[0m\u001b[0;34m,\u001b[0m\u001b[0misHori\u001b[0m\u001b[0;34m=\u001b[0m\u001b[0;32mFalse\u001b[0m\u001b[0;34m)\u001b[0m\u001b[0;34m\u001b[0m\u001b[0m\n\u001b[1;32m     19\u001b[0m \u001b[0mplt\u001b[0m\u001b[0;34m.\u001b[0m\u001b[0mshow\u001b[0m\u001b[0;34m(\u001b[0m\u001b[0;34m)\u001b[0m\u001b[0;34m\u001b[0m\u001b[0m\n",
      "\u001b[0;31mAttributeError\u001b[0m: module 'numpy' has no attribute 'quantile'"
     ]
    }
   ],
   "source": [
    "populationN = 10000\n",
    "pops = {\n",
    "    'randint':np.random.randint(1,100,populationN),\n",
    "    'normal':np.random.normal(45,3,populationN),\n",
    "    'chisq1':np.random.chisquare(1,populationN),\n",
    "    'chisq2':np.random.chisquare(2,populationN),\n",
    "    'chisq4':np.random.chisquare(4,populationN),\n",
    "    'chisq20':np.random.chisquare(20,populationN),\n",
    "}\n",
    "pop1 = pops['chisq4']\n",
    "\n",
    "count,bins,ignored = plt.hist(pop1,'auto',density=True,histtype='step')\n",
    "c_max = count.max()\n",
    "c_min = count.min()\n",
    "drawLine(0,c_max,np.mean(pop1),plt,isHori=False)\n",
    "drawLine(0,c_max,np.median(pop1),plt,color='black',isHori=False)\n",
    "# drawLine(0,c_max,np.quantile(pop1,0.25),plt,color='green',isHori=False)\n",
    "# drawLine(0,c_max,np.quantile(pop1,0.75),plt,color='orange',isHori=False)\n",
    "plt.show()"
   ]
  },
  {
   "cell_type": "code",
   "execution_count": null,
   "metadata": {},
   "outputs": [],
   "source": [
    "sampleN = 100\n",
    "sample = np.random.choice(pop1,sampleN)\n",
    "count,bins,ignored = plt.hist(sample,'auto',density=True)\n",
    "plt.show()\n",
    "s_min = math.floor(sample.min())\n",
    "s_max = math.floor(sample.max())\n",
    "s_mean = np.mean(sample)\n",
    "sums_xi_minus_mean = []\n",
    "for (i,e) in enumerate(sample):\n",
    "    sums_xi_minus_mean.append((e,np.mean(sample-e)))\n",
    "sums_xi_minus_mean.append((s_mean,np.mean(sample-s_mean)))\n",
    "x_coords,y_coords = zip(*sums_xi_minus_mean)\n",
    "x_coords = np.array(x_coords)\n",
    "y_coords = np.array(y_coords)\n",
    "plt.scatter(x_coords,y_coords)\n",
    "drawLine(y_coords.min(),y_coords.max(),s_mean,plt,isHori=False)\n",
    "drawLine(x_coords.min(),x_coords.max(),np.mean(sample-s_mean),plt,isHori=True)\n",
    "plt.show()"
   ]
  },
  {
   "cell_type": "code",
   "execution_count": null,
   "metadata": {
    "scrolled": true
   },
   "outputs": [],
   "source": [
    "sums_xi_minus_mean_square = []\n",
    "zoom_in = True\n",
    "for (i,e) in enumerate(sample):\n",
    "    sums_xi_minus_mean_square.append((e,np.mean((sample-e)*(sample-e))))\n",
    "sums_xi_minus_mean_square.append((s_mean,np.mean((sample-s_mean)*(sample-s_mean))))\n",
    "x_coords,y_coords = zip(*sums_xi_minus_mean_square)\n",
    "x_coords = np.array(x_coords)\n",
    "y_coords = np.array(y_coords)\n",
    "plt.scatter(x_coords,y_coords)\n",
    "drawLine(y_coords.min(),y_coords.max(),s_mean,plt,isHori=False)\n",
    "drawLine(x_coords.min(),x_coords.max(),np.mean((sample-s_mean)*(sample-s_mean)),plt,isHori=True)\n",
    "if zoom_in:\n",
    "    plt.xlim(2,6)\n",
    "    plt.ylim(np.mean((sample-s_mean)*(sample-s_mean)),18)\n",
    "plt.show()"
   ]
  },
  {
   "cell_type": "markdown",
   "metadata": {},
   "source": [
    "## 样本和与样本平均数的分布规律"
   ]
  },
  {
   "cell_type": "markdown",
   "metadata": {},
   "source": [
    "### 思考题\n",
    "\n",
    "现在让我们考虑这样一个问题，假设有一个很大的盒子，里面只有标着-1,0或者1的三种纸条，各种纸条的比例是相同的，纸条数量非常多，以至于每次抽出任何一个纸条以后，盒内三种纸条的比例仍然是1:1:1。"
   ]
  },
  {
   "cell_type": "code",
   "execution_count": null,
   "metadata": {
    "scrolled": true
   },
   "outputs": [],
   "source": [
    "list3type = np.random.randint(-1,2,10000000)\n",
    "count,bins,ignored=plt.hist(list3type,'auto',density=True)\n",
    "plt.show()"
   ]
  },
  {
   "cell_type": "markdown",
   "metadata": {},
   "source": [
    "如果每次我们抽200个纸条，对纸条的值求和，然后不断重复这个实验50次,100次，500次和10000次分别看一下纸条求和的变化情况"
   ]
  },
  {
   "cell_type": "code",
   "execution_count": null,
   "metadata": {},
   "outputs": [],
   "source": [
    "# sample size\n",
    "sampleN = 200\n",
    "#  iteration times\n",
    "iteration = 50\n",
    "sum_sample = []\n",
    "for i in range(iteration):\n",
    "    sample = np.random.choice(list3type,sampleN)\n",
    "    sum_sample.append(np.sum(sample))\n",
    "count,bins,ignored = plt.hist(sum_sample,'auto',density=False)\n",
    "plt.show()"
   ]
  },
  {
   "cell_type": "markdown",
   "metadata": {},
   "source": [
    "**中值极限定理.2 平均值的中心极限定理**\n",
    "\n",
    "假定，多批次等容量随机样本是从同一个无限总体中采集的，算出每一个批次样本的平均数，将不同批次的样本平均数放在一起可以形成一个新的分布，并且这个分布是接近正态的。"
   ]
  },
  {
   "cell_type": "code",
   "execution_count": null,
   "metadata": {
    "scrolled": true
   },
   "outputs": [],
   "source": [
    "# sample size\n",
    "sampleN = 200\n",
    "#  iteration times\n",
    "iteration = 50\n",
    "mean_sample = []\n",
    "for i in range(iteration):\n",
    "    sample = np.random.choice(list3type,sampleN)\n",
    "    mean_sample.append(np.mean(sample))\n",
    "count,bins,ignored = plt.hist(sum_sample,'auto',density=False)\n",
    "plt.show()"
   ]
  },
  {
   "cell_type": "markdown",
   "metadata": {},
   "source": [
    "**中值极限定理.3 平均值的分布**\n",
    "假定无穷多个等容量随机样本是从同一个无限总体中抽取的，而且吧这些样本的平均数放在一起，形成的新分布均值与原分布均值相同"
   ]
  },
  {
   "cell_type": "code",
   "execution_count": null,
   "metadata": {},
   "outputs": [],
   "source": [
    "pop_clt = pops['chisq4']\n",
    "mean_pop_clt = np.mean(pop_clt)\n",
    "# sample size\n",
    "sample_size = 50\n",
    "# iteration times\n",
    "iteration = 100000\n",
    "cnt1,bins1,ign1 = plt.hist(pop_clt,'auto',density=True)\n",
    "plt.show()\n",
    "mean_sample = []\n",
    "for i in range(iteration):\n",
    "    sample = np.random.choice(pop_clt,sample_size)\n",
    "    mean_sample.append(np.mean(sample))\n",
    "cnt2,bins2,ign2 = plt.hist(mean_sample, 'auto', density = True)\n",
    "y_min = cnt2.min()\n",
    "y_max = cnt2.max()\n",
    "drawLine(y_min,y_max,np.mean(pop_clt),plt,color='black')\n",
    "drawLine(y_min,y_max,np.mean(mean_sample),plt,color='red')\n",
    "plt.show()"
   ]
  },
  {
   "cell_type": "code",
   "execution_count": null,
   "metadata": {},
   "outputs": [],
   "source": [
    "pop_clt = pops['chisq4']\n",
    "mean_pop_clt = np.mean(pop_clt)\n",
    "# sample size\n",
    "sample_size = 50\n",
    "# iteration times\n",
    "iteration = 10000\n",
    "# cnt1,bins1,ign1 = plt.hist(pop_clt,'auto',density=True)\n",
    "# plt.show()\n",
    "mean_sample = []\n",
    "scatterPlots = []\n",
    "for i in range(iteration):\n",
    "    sample = np.random.choice(pop_clt,sample_size)\n",
    "    mean_sample.append(np.mean(sample))\n",
    "    scatterPlots.append((i,np.mean(mean_sample)))\n",
    "\n",
    "scatter_xs,scatter_ys = zip(*scatterPlots)\n",
    "plt.scatter(scatter_xs,scatter_ys)\n",
    "drawLine(0,iteration,mean_pop_clt,plt,isHori=True)\n",
    "plt.show()"
   ]
  },
  {
   "cell_type": "markdown",
   "metadata": {},
   "source": [
    "**中值极限定理.4 平均值分布的标准差**\n",
    "\n",
    "$\\sigma_{\\bar x} = \\frac{\\sigma}{\\sqrt{N}}$"
   ]
  },
  {
   "cell_type": "code",
   "execution_count": null,
   "metadata": {},
   "outputs": [],
   "source": [
    "pop_clt = pops['chisq4']\n",
    "std_pop_clt = np.std(pop_clt)\n",
    "\n",
    "# sample size\n",
    "sample_size = 50\n",
    "# calculated mean dist sigma\n",
    "calc_std_pop_clt = std_pop_clt/math.sqrt(sample_size)\n",
    "# iteration times\n",
    "iteration = 100\n",
    "# cnt1,bins1,ign1 = plt.hist(pop_clt,'auto',density=True)\n",
    "# plt.show()\n",
    "mean_sample = []\n",
    "scatterPlots = []\n",
    "for i in range(iteration):\n",
    "    sample = np.random.choice(pop_clt,sample_size)\n",
    "    mean_sample.append(np.mean(sample))\n",
    "    scatterPlots.append((i,np.std(mean_sample)))\n",
    "\n",
    "scatter_xs,scatter_ys = zip(*scatterPlots)\n",
    "plt.scatter(scatter_xs,scatter_ys)\n",
    "drawLine(0,iteration,calc_std_pop_clt,plt,isHori=True)\n",
    "plt.show()"
   ]
  },
  {
   "cell_type": "code",
   "execution_count": null,
   "metadata": {},
   "outputs": [],
   "source": [
    "pop_clt = pops['chisq4']\n",
    "std_pop_clt = np.std(pop_clt)\n",
    "def mean_dist(sample_size,iteration):\n",
    "    mean_sample = []\n",
    "    for i in range(iteration):\n",
    "        sample = np.random.choice(pop_clt,sample_size)\n",
    "        mean_sample.append(np.mean(sample))\n",
    "    cnt,bins,ign = plt.hist(mean_sample,'auto',density=True)\n",
    "    return (cnt,bins,ign)\n",
    "cnt,bins,ign = mean_dist(50,1000)\n",
    "plt.xlim(bins.min(),bins.max())\n",
    "plt.show()\n",
    "mean_dist(100,1000)\n",
    "plt.xlim(bins.min(),bins.max())\n",
    "plt.show()\n"
   ]
  }
 ],
 "metadata": {
  "kernelspec": {
   "display_name": "py36",
   "language": "python",
   "name": "py36"
  },
  "language_info": {
   "codemirror_mode": {
    "name": "ipython",
    "version": 3
   },
   "file_extension": ".py",
   "mimetype": "text/x-python",
   "name": "python",
   "nbconvert_exporter": "python",
   "pygments_lexer": "ipython3",
   "version": "3.6.1"
  }
 },
 "nbformat": 4,
 "nbformat_minor": 2
}
