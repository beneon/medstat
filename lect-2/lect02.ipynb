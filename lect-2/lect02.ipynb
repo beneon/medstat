{
 "cells": [
  {
   "cell_type": "markdown",
   "metadata": {},
   "source": [
    "现在假设我们想知道一个学校学生的平均智商，从这个学校抽取5个学生（样本），测量智商为90,100,105,145和100，现在要估计整个学校（总体）的平均智商。为了让估计尽可能准确，我们应该怎么做？\n",
    "\n",
    "- A. 使用5个学生的智商的中位数\n",
    "- B. 使用5个学生的智商的平均值\n",
    "- C. 使用5个学生的智商的（最小值+最大值）/2\n",
    "- D. 从5个学生中去除最大值，去除最小值，剩下的智商数除以2"
   ]
  },
  {
   "cell_type": "code",
   "execution_count": 2,
   "metadata": {
    "collapsed": true
   },
   "outputs": [],
   "source": [
    "# import packages\n",
    "import numpy as np\n",
    "import pandas as pd\n",
    "import matplotlib.pyplot as plt\n",
    "import math\n",
    "import scipy"
   ]
  },
  {
   "cell_type": "code",
   "execution_count": 11,
   "metadata": {},
   "outputs": [],
   "source": [
    "def drawLine(vFrom, vTo, value,color='red',isHori=False):\n",
    "    if isHori:\n",
    "        return ([vFrom,vTo],[value,value],color)\n",
    "    else:\n",
    "        return ([value,value],[vFrom,vTo],color)"
   ]
  },
  {
   "cell_type": "code",
   "execution_count": 20,
   "metadata": {
    "collapsed": true
   },
   "outputs": [],
   "source": [
    "populationN = 100000\n",
    "pops = {\n",
    "    'randint':np.random.randint(1,100,populationN),\n",
    "    'normal':np.random.normal(138,15,populationN),\n",
    "    'chisq1':np.random.chisquare(1,populationN),\n",
    "    'chisq2':np.random.chisquare(2,populationN),\n",
    "    'chisq4':np.random.chisquare(4,populationN),\n",
    "    'chisq20':np.random.chisquare(20,populationN),\n",
    "}"
   ]
  },
  {
   "cell_type": "code",
   "execution_count": null,
   "metadata": {
    "collapsed": true
   },
   "outputs": [],
   "source": [
    "pop1 = pops['normal']\n",
    "iteration = 1000\n",
    "sample_size = 5\n",
    "\n",
    "\n",
    "median_sample = []\n",
    "mean_sample = []\n",
    "max_min_sample = []\n",
    "mean_in_between_sample = []\n",
    "\n",
    "\n",
    "scatter_median_sample = []\n",
    "scatter_mean_sample = []\n",
    "scatter_max_min_sample = []\n",
    "scatter_mean_in_between_sample = []\n",
    "\n",
    "for i in range(iteration):\n",
    "    sample = np.random.choice(pop1,sample_size)\n",
    "    mean_sample.append(np.mean(sample))\n",
    "    median_sample.append(np.median(sample))\n",
    "    max_min_sample.append((sample.max()+sample.min())/2)\n",
    "    mean_in_between_sample.append((np.mean([e for e in sample if e != np.max(sample) and e != np.min(sample)])))\n",
    "enum_median_sample = enumerate(median_sample)\n",
    "enum_mean_sample = enumerate(mean_sample)\n",
    "enum_max_min_sample = enumerate(max_min_sample)\n",
    "enum_mean_in_between_sample = enumerate(mean_in_between_sample)\n",
    "def plotFlunctuate(enums):\n",
    "    scatter_xs,scatter_ys = zip(*enums)\n",
    "    plt.scatter(scatter_xs,scatter_ys)\n",
    "    drawLine(0,iteration,mean_pop_clt,plt,isHori=True)\n",
    "    plt.show()\n"
   ]
  }
 ],
 "metadata": {
  "kernelspec": {
   "display_name": "py36",
   "language": "python",
   "name": "py36"
  },
  "language_info": {
   "codemirror_mode": {
    "name": "ipython",
    "version": 3
   },
   "file_extension": ".py",
   "mimetype": "text/x-python",
   "name": "python",
   "nbconvert_exporter": "python",
   "pygments_lexer": "ipython3",
   "version": "3.6.6"
  }
 },
 "nbformat": 4,
 "nbformat_minor": 2
}
